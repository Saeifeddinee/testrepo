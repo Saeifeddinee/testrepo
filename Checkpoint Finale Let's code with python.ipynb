{
 "cells": [
  {
   "cell_type": "markdown",
   "metadata": {},
   "source": [
    "1.Display numbers from -10 to -1 using for loop"
   ]
  },
  {
   "cell_type": "code",
   "execution_count": 7,
   "metadata": {},
   "outputs": [
    {
     "name": "stdout",
     "output_type": "stream",
     "text": [
      "-1,-2,-3,-4,-5,-6,-7,-8,-9,-10,"
     ]
    }
   ],
   "source": [
    "r=range(1,11)\n",
    "for i in r:\n",
    "    j=-i\n",
    "    print(j,end=',')"
   ]
  },
  {
   "cell_type": "markdown",
   "metadata": {},
   "source": [
    "2.Given a number count the total number of digits in a number, for example, the number is 75869, so the output should be 5"
   ]
  },
  {
   "cell_type": "code",
   "execution_count": 8,
   "metadata": {},
   "outputs": [
    {
     "name": "stdout",
     "output_type": "stream",
     "text": [
      "495847\n"
     ]
    }
   ],
   "source": [
    "x=input()\n",
    "j=0\n",
    "for i in x:\n",
    "    if i !='':\n",
    "        j+=1"
   ]
  },
  {
   "cell_type": "code",
   "execution_count": 9,
   "metadata": {},
   "outputs": [
    {
     "name": "stdout",
     "output_type": "stream",
     "text": [
      "6\n"
     ]
    }
   ],
   "source": [
    "print(j)"
   ]
  },
  {
   "cell_type": "markdown",
   "metadata": {},
   "source": [
    "3.Write a function which Displays the cube of the number up to a given integer, for example the number is 2 the cube should be 8"
   ]
  },
  {
   "cell_type": "code",
   "execution_count": 10,
   "metadata": {},
   "outputs": [],
   "source": [
    "def puissance(x):\n",
    "    y=x**3\n",
    "    print(y)"
   ]
  },
  {
   "cell_type": "code",
   "execution_count": 11,
   "metadata": {},
   "outputs": [
    {
     "name": "stdout",
     "output_type": "stream",
     "text": [
      "27\n"
     ]
    }
   ],
   "source": [
    "puissance(3)"
   ]
  },
  {
   "cell_type": "markdown",
   "metadata": {},
   "source": [
    "4.Given two integer numbers return their product. If the product is greater than 1000, then return their sum"
   ]
  },
  {
   "cell_type": "code",
   "execution_count": 12,
   "metadata": {},
   "outputs": [
    {
     "name": "stdout",
     "output_type": "stream",
     "text": [
      "500\n",
      "600\n"
     ]
    }
   ],
   "source": [
    "x=int(input())\n",
    "y=int(input())\n",
    "list1=[x,y]\n",
    "def fun(list):\n",
    "    j=0\n",
    "    for i in list:\n",
    "        j=j+i\n",
    "        if j>1000:\n",
    "            print(j)\n",
    "        else:\n",
    "            print(i)"
   ]
  },
  {
   "cell_type": "code",
   "execution_count": 13,
   "metadata": {},
   "outputs": [
    {
     "name": "stdout",
     "output_type": "stream",
     "text": [
      "500\n",
      "1100\n"
     ]
    }
   ],
   "source": [
    "fun(list1)"
   ]
  },
  {
   "cell_type": "markdown",
   "metadata": {},
   "source": [
    "5.Given a list of numbers, return True if first and last number of a list is same"
   ]
  },
  {
   "cell_type": "code",
   "execution_count": 14,
   "metadata": {},
   "outputs": [
    {
     "name": "stdout",
     "output_type": "stream",
     "text": [
      "saisir des nombres aprés éspace300 500 300\n",
      "True\n"
     ]
    }
   ],
   "source": [
    "list=input(\"saisir des nombres aprés éspace\")\n",
    "list=list.split()\n",
    "list1=[]\n",
    "for i in list:\n",
    "    list1.append(int(i))\n",
    "    n=len(list1)\n",
    "if list[0]==list[n-1]:\n",
    "    print(\"True\")\n",
    "else:\n",
    "    print(\"False\")"
   ]
  },
  {
   "cell_type": "markdown",
   "metadata": {},
   "source": [
    "6.Given a two list of numbers create a new list such that new list should contain only odd numbers from the first list and even numbers from the second list, for example list1 =  [10, 20, 23, 11, 17] and list 2 = [13, 43, 24, 36, 12]  => result should be [23, 11, 17, 24, 36, 12]"
   ]
  },
  {
   "cell_type": "code",
   "execution_count": 17,
   "metadata": {},
   "outputs": [],
   "source": [
    "list1=[1,4,5,3]\n",
    "list2=[1,20,47,8]\n",
    "list3=[]\n",
    "list4=[]\n",
    "for i in list2:\n",
    "        if (i%2)==0:\n",
    "            list3.append(i)\n",
    "for j in list1:\n",
    "    if (j%2)!=0:\n",
    "        list4.append(j)\n",
    "list5=list3+list4\n"
   ]
  },
  {
   "cell_type": "code",
   "execution_count": 18,
   "metadata": {},
   "outputs": [
    {
     "name": "stdout",
     "output_type": "stream",
     "text": [
      "[20, 8, 1, 5, 3]\n"
     ]
    }
   ],
   "source": [
    "print(list5)"
   ]
  },
  {
   "cell_type": "markdown",
   "metadata": {},
   "source": [
    "7.Write a function which Iterates a given list and counts the occurrence of each element and creates a dictionary to show the count of each element, for example: input list  [11, 45, 8, 11, 23, 45, 23, 45, 89]=> result should be {11: 2, 45: 3, 8: 1, 23: 2, 89: 1}"
   ]
  },
  {
   "cell_type": "code",
   "execution_count": 38,
   "metadata": {},
   "outputs": [
    {
     "name": "stdout",
     "output_type": "stream",
     "text": [
      "12 23 12 45 57 354 34 12 78 12\n"
     ]
    }
   ],
   "source": [
    "list1=input()\n",
    "list1=list1.split()\n",
    "dic = dict.fromkeys(list1 , 0)\n"
   ]
  },
  {
   "cell_type": "code",
   "execution_count": 39,
   "metadata": {},
   "outputs": [
    {
     "name": "stdout",
     "output_type": "stream",
     "text": [
      "{'12': 0, '23': 0, '45': 0, '57': 0, '354': 0, '34': 0, '78': 0}\n"
     ]
    }
   ],
   "source": [
    "print(dic)"
   ]
  },
  {
   "cell_type": "code",
   "execution_count": 40,
   "metadata": {},
   "outputs": [],
   "source": [
    "for i in list1:\n",
    "    if (i in dic):\n",
    "        dic[i]=dic[i]+1"
   ]
  },
  {
   "cell_type": "code",
   "execution_count": 41,
   "metadata": {},
   "outputs": [
    {
     "name": "stdout",
     "output_type": "stream",
     "text": [
      "{'12': 4, '23': 1, '45': 1, '57': 1, '354': 1, '34': 1, '78': 1}\n"
     ]
    }
   ],
   "source": [
    "print(dic)"
   ]
  },
  {
   "cell_type": "markdown",
   "metadata": {},
   "source": [
    "Write a function which finds the intersection of two sets and removes common elements from the first set. for example: First Set  {65, 42, 78, 83, 23, 57, 29} and Second Set  {67, 73, 43, 48, 83, 57, 29} => Intersection should be  {57, 83, 29} and First Set after removing common element  {65, 42, 78, 23}"
   ]
  },
  {
   "cell_type": "code",
   "execution_count": 2,
   "metadata": {},
   "outputs": [],
   "source": [
    "s1={65, 42, 78, 83, 23, 57, 29} \n",
    "s2={67, 73, 43, 48, 83, 57, 29}\n",
    "s4=[]\n",
    "for i in s2:\n",
    "    if (i in s1):\n",
    "        s4.append(i)\n",
    "my_set=set(s4)"
   ]
  },
  {
   "cell_type": "code",
   "execution_count": 3,
   "metadata": {},
   "outputs": [
    {
     "data": {
      "text/plain": [
       "{29, 57, 83}"
      ]
     },
     "execution_count": 3,
     "metadata": {},
     "output_type": "execute_result"
    }
   ],
   "source": [
    "my_set"
   ]
  },
  {
   "cell_type": "code",
   "execution_count": null,
   "metadata": {},
   "outputs": [],
   "source": []
  }
 ],
 "metadata": {
  "kernelspec": {
   "display_name": "Python 3",
   "language": "python",
   "name": "python3"
  },
  "language_info": {
   "codemirror_mode": {
    "name": "ipython",
    "version": 3
   },
   "file_extension": ".py",
   "mimetype": "text/x-python",
   "name": "python",
   "nbconvert_exporter": "python",
   "pygments_lexer": "ipython3",
   "version": "3.8.5"
  }
 },
 "nbformat": 4,
 "nbformat_minor": 4
}
